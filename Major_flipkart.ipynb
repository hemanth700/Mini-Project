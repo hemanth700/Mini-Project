{
  "nbformat": 4,
  "nbformat_minor": 0,
  "metadata": {
    "colab": {
      "name": "Major-flipkart.ipynb",
      "provenance": [],
      "authorship_tag": "ABX9TyMrT36NzmRO3n9BfvTRfXlS",
      "include_colab_link": true
    },
    "kernelspec": {
      "name": "python3",
      "display_name": "Python 3"
    },
    "language_info": {
      "name": "python"
    }
  },
  "cells": [
    {
      "cell_type": "markdown",
      "metadata": {
        "id": "view-in-github",
        "colab_type": "text"
      },
      "source": [
        "<a href=\"https://colab.research.google.com/github/hemanth700/Mini-Project/blob/main/Major_flipkart.ipynb\" target=\"_parent\"><img src=\"https://colab.research.google.com/assets/colab-badge.svg\" alt=\"Open In Colab\"/></a>"
      ]
    },
    {
      "cell_type": "code",
      "metadata": {
        "colab": {
          "base_uri": "https://localhost:8080/"
        },
        "id": "xATPxBq2TxVj",
        "outputId": "a34a45a8-f980-4502-dd44-e36ad3f159d0"
      },
      "source": [
        "!pip install contractions --quiet\n",
        "!pip install vaderSentiment --quiet\n",
        "!pip install emot --quiet"
      ],
      "execution_count": 1,
      "outputs": [
        {
          "output_type": "stream",
          "text": [
            "\u001b[K     |████████████████████████████████| 286kB 5.2MB/s \n",
            "\u001b[K     |████████████████████████████████| 327kB 31.1MB/s \n",
            "\u001b[?25h  Building wheel for pyahocorasick (setup.py) ... \u001b[?25l\u001b[?25hdone\n",
            "\u001b[K     |████████████████████████████████| 133kB 5.2MB/s \n",
            "\u001b[?25h"
          ],
          "name": "stdout"
        }
      ]
    },
    {
      "cell_type": "code",
      "metadata": {
        "colab": {
          "base_uri": "https://localhost:8080/"
        },
        "id": "cnToJkrmT32_",
        "outputId": "0932b823-6a65-41eb-ae87-a9ba532affd5"
      },
      "source": [
        "import requests\n",
        "from bs4 import BeautifulSoup\n",
        "import pandas as pd\n",
        "\n",
        "import matplotlib.pyplot as plt\n",
        "from skimage.io import imread,imshow,imshow_collection\n",
        "\n",
        "import re\n",
        "from emot.emo_unicode import UNICODE_EMO, EMOTICONS\n",
        "import contractions\n",
        "import nltk\n",
        "from nltk.tokenize.toktok import ToktokTokenizer\n",
        "nltk.download('stopwords')\n",
        "from vaderSentiment.vaderSentiment import SentimentIntensityAnalyzer"
      ],
      "execution_count": 2,
      "outputs": [
        {
          "output_type": "stream",
          "text": [
            "[nltk_data] Downloading package stopwords to /root/nltk_data...\n",
            "[nltk_data]   Unzipping corpora/stopwords.zip.\n"
          ],
          "name": "stdout"
        }
      ]
    },
    {
      "cell_type": "code",
      "metadata": {
        "id": "WY-OlpM1UBMe"
      },
      "source": [
        "def get_urls(name):\n",
        "  links=[]\n",
        "  products=[]\n",
        "  img_links=[]\n",
        "  dic={}\n",
        "\n",
        "  try :\n",
        "    name=name.replace(' ','%20')\n",
        "  except:\n",
        "    pass\n",
        "\n",
        "  url='https://www.flipkart.com/search?q='+name+'&otracker=search&otracker1=search&marketplace=FLIPKART&as-show=on&as=off'\n",
        "  print(url)\n",
        "\n",
        "  page=requests.get(url)\n",
        "  soup=BeautifulSoup(page.content,\"html.parser\")\n",
        "\n",
        "  if soup.findAll(\"a\",attrs={\"class\":\"_1fQZEK\"}) != []:\n",
        "    for link in soup.findAll(\"a\",attrs={\"class\":\"_1fQZEK\"}):\n",
        "      n_link=link.get('href')\n",
        "      links.append(n_link)\n",
        "    for link in soup.findAll(\"img\",attrs={\"class\":\"_396cs4 _3exPp9\"}):\n",
        "      n_link=link.get('src')\n",
        "      img_links.append(n_link)\n",
        "    for product in soup.findAll(\"div\",attrs={\"class\":\"_4rR01T\"}):\n",
        "      products.append(product.get_text())\n",
        "\n",
        "  elif soup.findAll(\"a\",attrs={\"class\":\"s1Q9rs\"}) != [] :\n",
        "    for link in soup.findAll(\"a\",attrs={\"class\":\"s1Q9rs\"}):\n",
        "      n_link=link.get('href')\n",
        "      links.append(n_link)\n",
        "      products.append(link.get_text())\n",
        "    for link in soup.findAll(\"img\",attrs={\"class\":\"_396cs4 _3exPp9\"}):\n",
        "      n_link=link.get('src')\n",
        "      img_links.append(n_link)\n",
        "\n",
        "  else :\n",
        "    for link in soup.findAll(\"a\",attrs={\"class\":\"IRpwTa\"}):\n",
        "      n_link=link.get('href')\n",
        "      links.append(n_link)\n",
        "    for link in soup.findAll(\"img\",attrs={\"class\":\"_2r_T1I\"}):\n",
        "      n_link=link.get('src')\n",
        "      img_links.append(n_link)\n",
        "    for product in soup.findAll(\"div\",attrs={\"class\":\"_2WkVRV\"}):\n",
        "      products.append(product.get_text())\n",
        "\n",
        "  for i in range(len(links)):\n",
        "    links[i]=\"https://www.flipkart.com\"+links[i]\n",
        "    if img_links[i]=='':\n",
        "      img_links[i]='http://fremontgurdwara.org/wp-content/uploads/2020/06/no-image-icon-2.png'\n",
        "    dic[products[i]]=[links[i],img_links[i]]\n",
        "    \n",
        "  return dic"
      ],
      "execution_count": 3,
      "outputs": []
    },
    {
      "cell_type": "code",
      "metadata": {
        "id": "9kKEdA0fUEez"
      },
      "source": [
        "def get_reviews(new):\n",
        "  review_link=[]\n",
        "  reviews=[]\n",
        "  url=dic[new][0]\n",
        "\n",
        "  page1=requests.get(url)\n",
        "  soup=BeautifulSoup(page1.content,\"html.parser\")\n",
        "  \n",
        "  for r in soup.findAll(\"div\",attrs={\"class\":\"t-ZTKy\"}):\n",
        "    reviews.append(r.get_text())\n",
        "  return reviews"
      ],
      "execution_count": 4,
      "outputs": []
    },
    {
      "cell_type": "code",
      "metadata": {
        "colab": {
          "base_uri": "https://localhost:8080/",
          "height": 35
        },
        "id": "PHdN0sNhUHzj",
        "outputId": "b4087506-b32b-40d1-d4b8-257debed9356"
      },
      "source": [
        "# Remove HTML Tag\n",
        "def html_tag(text):\n",
        "  Soup = BeautifulSoup(text,\"html.parser\")\n",
        "  new_text = Soup.get_text()\n",
        "  return new_text\n",
        "\n",
        "html_tag('<html><h2> some important info </h2></html>')"
      ],
      "execution_count": 5,
      "outputs": [
        {
          "output_type": "execute_result",
          "data": {
            "application/vnd.google.colaboratory.intrinsic+json": {
              "type": "string"
            },
            "text/plain": [
              "' some important info '"
            ]
          },
          "metadata": {
            "tags": []
          },
          "execution_count": 5
        }
      ]
    },
    {
      "cell_type": "code",
      "metadata": {
        "colab": {
          "base_uri": "https://localhost:8080/",
          "height": 35
        },
        "id": "8RTyZTDnULP_",
        "outputId": "05766824-c818-450a-f9fe-38a5b02a0067"
      },
      "source": [
        "# Expand Contractions\n",
        "def con(text):\n",
        "  expand= contractions.fix(text)\n",
        "  return expand\n",
        "\n",
        "con(\"I don't like you\" ) "
      ],
      "execution_count": 6,
      "outputs": [
        {
          "output_type": "execute_result",
          "data": {
            "application/vnd.google.colaboratory.intrinsic+json": {
              "type": "string"
            },
            "text/plain": [
              "'I do not like you'"
            ]
          },
          "metadata": {
            "tags": []
          },
          "execution_count": 6
        }
      ]
    },
    {
      "cell_type": "code",
      "metadata": {
        "id": "BCldpP5XUPUq"
      },
      "source": [
        "#Remove Special Characters\n",
        "def remove_sp(text):\n",
        "  pattern = r'[^A-Za-z0-9\\s]'\n",
        "  text = re.sub(pattern,'',text)\n",
        "  return text"
      ],
      "execution_count": 7,
      "outputs": []
    },
    {
      "cell_type": "code",
      "metadata": {
        "id": "a0Vnx949USJI"
      },
      "source": [
        "def remove_stopwords(text):\n",
        "\n",
        "  #creating a stopword list \n",
        "  stopword_list = nltk.corpus.stopwords.words('english')\n",
        "  stopword_list.remove('no')\n",
        "  stopword_list.remove('not')\n",
        "  stopword_list.append('read')\n",
        "  \n",
        "  len(stopword_list)\n",
        "\n",
        "  #removing the stop words\n",
        "  tokenizer = ToktokTokenizer()\n",
        "  tokens = tokenizer.tokenize(text)\n",
        "  tokens = [token.strip() for token in tokens]\n",
        "  filtered_tokens = [token for token in tokens if token not in stopword_list]\n",
        "  filtered_text = ' '.join(filtered_tokens)\n",
        "  return filtered_text"
      ],
      "execution_count": 8,
      "outputs": []
    },
    {
      "cell_type": "code",
      "metadata": {
        "id": "gJ8foKv_UWJr"
      },
      "source": [
        "def convert_emojis(text):\n",
        "  for emot in UNICODE_EMO:\n",
        "    text = text.replace(emot,' '.join(UNICODE_EMO[emot].replace(',','').replace(':','').replace('_',' ').split()))\n",
        "  return text"
      ],
      "execution_count": 12,
      "outputs": []
    },
    {
      "cell_type": "code",
      "metadata": {
        "colab": {
          "base_uri": "https://localhost:8080/",
          "height": 984
        },
        "id": "Xd2gnntnUsi9",
        "outputId": "5171651a-a87f-4fe1-8425-cdcf234496ea"
      },
      "source": [
        "#START OF EXECUTION\n",
        "name=input('Enter the product name : ')\n",
        "dic=get_urls(name)\n",
        "#[print(keys, ':', value) for keys,value in dic.items() ]\n",
        "[print(key) for key in dic.keys()]\n",
        "new=input(\"Copy the product name : \")\n",
        "reviews=get_reviews(new)\n",
        "\n",
        "# Done Data Acquisation\n",
        "\n",
        "for i in reviews:\n",
        "  print(i)\n",
        "  print()\n",
        "\n",
        "processed_reviews=reviews.copy()\n",
        "for i in range(len(reviews)):\n",
        "  processed_reviews[i]= reviews[i].lower()\n",
        "  processed_reviews[i]= remove_stopwords(processed_reviews[i])\n",
        "  processed_reviews[i]= html_tag(processed_reviews[i])\n",
        "  processed_reviews[i]= con(processed_reviews[i])\n",
        "  processed_reviews[i]= remove_sp(processed_reviews[i])\n",
        "print('After Preprocessing\\n')\n",
        "for i in processed_reviews :\n",
        "  print(i)\n",
        "  print()\n",
        "\n",
        "# Done Preprocessing\n",
        "\n",
        "Analyze = SentimentIntensityAnalyzer()\n",
        "compound1=[]\n",
        "emoji=[]\n",
        "for x in range(len(processed_reviews)):\n",
        "  compound1.append(Analyze.polarity_scores(processed_reviews[x])['compound'])\n",
        "for x in range(len(reviews)):\n",
        "  if compound1[x]>=0.8:\n",
        "    emoji.append('\\U0001F600')\n",
        "  elif compound1[x]<0.8 and compound1[x]>0.1:\n",
        "    emoji.append('\\U0001F642')\n",
        "  elif compound1[x]<=0.1:\n",
        "    emoji.append('\\U0001F611')\n",
        "\n",
        "\n",
        "image = imread(dic[new][1])\n",
        "imshow(image)\n",
        "plt.axis('off')\n",
        "plt.title(new)\n",
        "plt.show()\n",
        "df1 = pd.DataFrame({'Reviews':reviews,\n",
        "                  'Compound Score': compound1,'Emojis':emoji})\n",
        "# df2=df1.style.set_properties(**{'text-align':'left'})\n",
        "if df1.empty :\n",
        "  print('Reviews Not Available')\n",
        "else : \n",
        "  print(df1)\n",
        "\n",
        "# Done Sentimental Analysis'''"
      ],
      "execution_count": 14,
      "outputs": [
        {
          "output_type": "stream",
          "text": [
            "Enter the product name : shoes\n",
            "https://www.flipkart.com/search?q=shoes&otracker=search&otracker1=search&marketplace=FLIPKART&as-show=on&as=off\n",
            "TR\n",
            "BRUTON\n",
            "aadi\n",
            "ASIAN\n",
            "SWIGGY\n",
            "CALCADOS\n",
            "GS\n",
            "BEEROCK\n",
            "Airland\n",
            "T-ROCK\n",
            "restinfoot\n",
            "ORICUM\n",
            "MILESWALKER\n",
            "Xylus\n",
            "Abisto\n",
            "Density\n",
            "K ' Footlance\n",
            "CAMPUS\n",
            "Shoes Bank\n",
            "Longwalk\n",
            "Copy the product name : CAMPUS\n",
            "5Good for that priceREAD MORE\n",
            "\n",
            "4Amazing shoes thanku campus  big fan❤️READ MORE\n",
            "\n",
            "5Excellent product..Just go for it.READ MORE\n",
            "\n",
            "After Preprocessing\n",
            "\n",
            "5good priceread\n",
            "\n",
            "4amazing shoes thanku campus big fanread\n",
            "\n",
            "5excellent product  go itread\n",
            "\n"
          ],
          "name": "stdout"
        },
        {
          "output_type": "display_data",
          "data": {
            "image/png": "[encoded data removed]",
            "text/plain": [
              "<Figure size 432x288 with 1 Axes>"
            ]
          },
          "metadata": {
            "tags": [],
            "needs_background": "light"
          }
        },
        {
          "output_type": "stream",
          "text": [
            "                                            Reviews  Compound Score Emojis\n",
            "0                     5Good for that priceREAD MORE             0.0      😑\n",
            "1  4Amazing shoes thanku campus  big fan❤️READ MORE             0.0      😑\n",
            "2      5Excellent product..Just go for it.READ MORE             0.0      😑\n"
          ],
          "name": "stdout"
        }
      ]
    },
    {
      "cell_type": "code",
      "metadata": {
        "colab": {
          "base_uri": "https://localhost:8080/",
          "height": 35
        },
        "id": "mYYIs5vGU7w8",
        "outputId": "7a5e6ad5-5a57-4943-a8a7-51fc02e6acda"
      },
      "source": [
        "'''\n",
        "compound score > 0.5 positive\n",
        "compound score < -0.5 negative\n",
        "compound score > -0.5 and compound score < 0.5 neutral\n",
        "'''"
      ],
      "execution_count": 15,
      "outputs": [
        {
          "output_type": "execute_result",
          "data": {
            "application/vnd.google.colaboratory.intrinsic+json": {
              "type": "string"
            },
            "text/plain": [
              "'\\ncompound score > 0.5 positive\\ncompound score < -0.5 negative\\ncompound score > -0.5 and compound score < 0.5 neutral\\n'"
            ]
          },
          "metadata": {
            "tags": []
          },
          "execution_count": 15
        }
      ]
    },
    {
      "cell_type": "code",
      "metadata": {
        "id": "Tyt_U-hMlRWb"
      },
      "source": [
        ""
      ],
      "execution_count": null,
      "outputs": []
    }
  ]
}